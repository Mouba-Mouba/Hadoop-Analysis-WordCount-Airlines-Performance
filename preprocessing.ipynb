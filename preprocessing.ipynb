{
 "cells": [
  {
   "cell_type": "code",
   "execution_count": 2,
   "metadata": {},
   "outputs": [
    {
     "name": "stdout",
     "output_type": "stream",
     "text": [
      "Filtered CSV saved to C:\\Users\\User\\Downloads\\data\\data_new.csv\n"
     ]
    }
   ],
   "source": [
    "import pandas as pd\n",
    "\n",
    "# Path to the original CSV file\n",
    "input_file_path = 'C:\\\\Users\\\\User\\\\Downloads\\\\data\\\\data.csv'\n",
    "# Path to the new CSV file with only the needed columns\n",
    "output_file_path = 'C:\\\\Users\\\\User\\\\Downloads\\\\data\\\\data_new.csv'\n",
    "\n",
    "# List of columns you want to keep\n",
    "required_columns = [\n",
    "    'Year', 'Month', 'DayofMonth', 'DayOfWeek', 'DepTime', \n",
    "    'ArrTime', 'ArrDelay', 'DepDelay', 'UniqueCarrier', \n",
    "    'FlightNum', 'Distance', 'Cancelled', 'CancellationCode', \n",
    "    'CarrierDelay', 'WeatherDelay', 'LateAircraftDelay'\n",
    "]\n",
    "\n",
    "# Read the CSV file\n",
    "df = pd.read_csv(input_file_path)\n",
    "\n",
    "# Filter columns\n",
    "filtered_df = df[required_columns]\n",
    "\n",
    "# Save to a new CSV file\n",
    "filtered_df.to_csv(output_file_path, index=False)\n",
    "\n",
    "print(f\"Filtered CSV saved to {output_file_path}\")"
   ]
  },
  {
   "cell_type": "code",
   "execution_count": 1,
   "metadata": {},
   "outputs": [
    {
     "name": "stdout",
     "output_type": "stream",
     "text": [
      "Filtered CSV saved to C:\\Users\\User\\Downloads\\data\\dataset_new.csv\n"
     ]
    }
   ],
   "source": [
    "import pandas as pd\n",
    "\n",
    "# Path to the original CSV file\n",
    "input_file_path = 'C:\\\\Users\\\\User\\\\Downloads\\\\data\\\\data.csv'\n",
    "# Path to the new CSV file with only the needed columns\n",
    "output_file_path = 'C:\\\\Users\\\\User\\\\Downloads\\\\data\\\\dataset_new.csv'\n",
    "\n",
    "# List of columns you want to keep\n",
    "required_columns = [\n",
    "    'Year', 'Month', 'DayofMonth', 'DayOfWeek', 'DepTime', \n",
    "    'CRSDepTime', 'ArrTime', 'CRSArrTime', 'UniqueCarrier', \n",
    "    'FlightNum', 'TailNum', 'ActualElapsedTime', 'CRSElapsedTime', \n",
    "    'AirTime', 'ArrDelay', 'DepDelay', 'Origin', 'Dest', \n",
    "    'Distance', 'TaxiIn', 'TaxiOut', 'Cancelled', 'CarrierDelay', \n",
    "    'WeatherDelay', 'NASDelay', 'SecurityDelay', 'LateAircraftDelay', \n",
    "    'Diverted'\n",
    "]\n",
    "\n",
    "# Read the CSV file\n",
    "df = pd.read_csv(input_file_path)\n",
    "\n",
    "# Filter columns\n",
    "filtered_df = df[required_columns]\n",
    "\n",
    "# Save to a new CSV file without header\n",
    "filtered_df.to_csv(output_file_path, index=False, header=False)\n",
    "\n",
    "print(f\"Filtered CSV saved to {output_file_path}\")"
   ]
  }
 ],
 "metadata": {
  "kernelspec": {
   "display_name": "Python 3",
   "language": "python",
   "name": "python3"
  },
  "language_info": {
   "codemirror_mode": {
    "name": "ipython",
    "version": 3
   },
   "file_extension": ".py",
   "mimetype": "text/x-python",
   "name": "python",
   "nbconvert_exporter": "python",
   "pygments_lexer": "ipython3",
   "version": "3.11.4"
  }
 },
 "nbformat": 4,
 "nbformat_minor": 2
}

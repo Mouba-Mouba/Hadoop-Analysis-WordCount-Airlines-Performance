{
 "cells": [
  {
   "cell_type": "code",
   "execution_count": 2,
   "metadata": {},
   "outputs": [
    {
     "name": "stdout",
     "output_type": "stream",
     "text": [
      "Column 'Year' has data type: int64\n",
      "Column 'Month' has data type: int64\n",
      "Column 'DayofMonth' has data type: int64\n",
      "Column 'DayOfWeek' has data type: int64\n",
      "Column 'DepTime' has data type: float64\n",
      "Column 'CRSDepTime' has data type: int64\n",
      "Column 'ArrTime' has data type: float64\n",
      "Column 'CRSArrTime' has data type: int64\n",
      "Column 'UniqueCarrier' has data type: object\n",
      "Column 'FlightNum' has data type: int64\n",
      "Column 'TailNum' has data type: object\n",
      "Column 'ActualElapsedTime' has data type: float64\n",
      "Column 'CRSElapsedTime' has data type: float64\n",
      "Column 'AirTime' has data type: float64\n",
      "Column 'ArrDelay' has data type: float64\n",
      "Column 'DepDelay' has data type: float64\n",
      "Column 'Origin' has data type: object\n",
      "Column 'Dest' has data type: object\n",
      "Column 'Distance' has data type: int64\n",
      "Column 'TaxiIn' has data type: float64\n",
      "Column 'TaxiOut' has data type: float64\n",
      "Column 'Cancelled' has data type: int64\n",
      "Column 'CarrierDelay' has data type: float64\n",
      "Column 'WeatherDelay' has data type: float64\n",
      "Column 'NASDelay' has data type: float64\n",
      "Column 'SecurityDelay' has data type: float64\n",
      "Column 'LateAircraftDelay' has data type: float64\n",
      "Column 'Diverted' has data type: int64\n"
     ]
    }
   ],
   "source": [
    "import pandas as pd\n",
    "\n",
    "# Path to the CSV file\n",
    "file_path = 'C:\\\\Users\\\\User\\\\Downloads\\\\data\\\\data.csv'\n",
    "\n",
    "# Read the CSV file\n",
    "df = pd.read_csv(file_path)\n",
    "\n",
    "# List of columns to check\n",
    "columns_to_check = [\n",
    "    'Year', 'Month', 'DayofMonth', 'DayOfWeek', 'DepTime', \n",
    "    'CRSDepTime', 'ArrTime', 'CRSArrTime', 'UniqueCarrier', \n",
    "    'FlightNum', 'TailNum', 'ActualElapsedTime', 'CRSElapsedTime', \n",
    "    'AirTime', 'ArrDelay', 'DepDelay', 'Origin', 'Dest', \n",
    "    'Distance', 'TaxiIn', 'TaxiOut', 'Cancelled', 'CarrierDelay', \n",
    "    'WeatherDelay', 'NASDelay', 'SecurityDelay', 'LateAircraftDelay', \n",
    "    'Diverted'\n",
    "]\n",
    "\n",
    "# Print data types of the specified columns\n",
    "for column in columns_to_check:\n",
    "    if column in df.columns:\n",
    "        dtype = df[column].dtype\n",
    "        print(f\"Column '{column}' has data type: {dtype}\")\n",
    "    else:\n",
    "        print(f\"Column '{column}' is not present in the CSV file.\")\n"
   ]
  }
 ],
 "metadata": {
  "kernelspec": {
   "display_name": "Python 3",
   "language": "python",
   "name": "python3"
  },
  "language_info": {
   "codemirror_mode": {
    "name": "ipython",
    "version": 3
   },
   "file_extension": ".py",
   "mimetype": "text/x-python",
   "name": "python",
   "nbconvert_exporter": "python",
   "pygments_lexer": "ipython3",
   "version": "3.11.4"
  }
 },
 "nbformat": 4,
 "nbformat_minor": 2
}
